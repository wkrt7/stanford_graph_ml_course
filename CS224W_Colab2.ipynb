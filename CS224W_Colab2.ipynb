{
  "cells": [
    {
      "cell_type": "markdown",
      "metadata": {
        "id": "XuXWJLEm2UWS"
      },
      "source": [
        "# **CS224W - Colab 2**"
      ]
    },
    {
      "cell_type": "markdown",
      "metadata": {
        "id": "8gzsP50bF6Gb"
      },
      "source": [
        "In Colab 2, we will work to construct our own graph neural network using PyTorch Geometric (PyG) and then apply that model on two Open Graph Benchmark (OGB) datasets. These two datasets will be used to benchmark your model's performance on two different graph-based tasks: 1) node property prediction, predicting properties of single nodes and 2) graph property prediction, predicting properties of entire graphs or subgraphs.\n",
        "\n",
        "First, we will learn how PyTorch Geometric stores graphs as PyTorch tensors.\n",
        "\n",
        "Then, we will load and inspect one of the Open Graph Benchmark (OGB) datasets by using the `ogb` package. OGB is a collection of realistic, large-scale, and diverse benchmark datasets for machine learning on graphs. The `ogb` package not only provides data loaders for each dataset but also model evaluators.\n",
        "\n",
        "Lastly, we will build our own graph neural network using PyTorch Geometric. We will then train and evaluate our model on the OGB node property prediction and graph property prediction tasks.\n",
        "\n",
        "**Note**: Make sure to **sequentially run all the cells in each section**, so that the intermediate variables / packages will carry over to the next cell\n",
        "\n",
        "We recommend you save a copy of this colab in your drive so you don't lose progress!\n",
        "\n",
        "Have fun and good luck on Colab 2 :)"
      ]
    },
    {
      "cell_type": "markdown",
      "metadata": {
        "id": "ZGKqVEbbMEzf"
      },
      "source": [
        "# Device\n",
        "You might need to use a GPU for this Colab to run quickly.\n",
        "\n",
        "Please click `Runtime` and then `Change runtime type`. Then set the `hardware accelerator` to **GPU**."
      ]
    },
    {
      "cell_type": "markdown",
      "metadata": {
        "id": "OCK7krJdp4o8"
      },
      "source": [
        "# Setup\n",
        "As discussed in Colab 0, the installation of PyG on Colab can be a little bit tricky. First let us check which version of PyTorch you are running"
      ]
    },
    {
      "cell_type": "code",
      "execution_count": 40,
      "metadata": {
        "id": "2vkP8pA1qBE5"
      },
      "outputs": [
        {
          "name": "stdout",
          "output_type": "stream",
          "text": [
            "PyTorch has version 1.13.1+cu116\n"
          ]
        }
      ],
      "source": [
        "import torch\n",
        "import os\n",
        "print(\"PyTorch has version {}\".format(torch.__version__))"
      ]
    },
    {
      "cell_type": "markdown",
      "metadata": {
        "id": "L6d22O6DqGSZ"
      },
      "source": [
        "Download the necessary packages for PyG. Make sure that your version of torch matches the output from the cell above. In case of any issues, more information can be found on the [PyG's installation page](https://pytorch-geometric.readthedocs.io/en/latest/notes/installation.html)."
      ]
    },
    {
      "cell_type": "markdown",
      "metadata": {
        "id": "Nwwq0nSdmsOL"
      },
      "source": [
        "# 1) PyTorch Geometric (Datasets and Data)\n"
      ]
    },
    {
      "cell_type": "markdown",
      "metadata": {
        "id": "Sf7vUmdNKCjA"
      },
      "source": [
        "PyTorch Geometric has two classes for storing and/or transforming graphs into tensor format. One is `torch_geometric.datasets`, which contains a variety of common graph datasets. Another is `torch_geometric.data`, which provides the data handling of graphs in PyTorch tensors.\n",
        "\n",
        "In this section, we will learn how to use `torch_geometric.datasets` and `torch_geometric.data` together."
      ]
    },
    {
      "cell_type": "markdown",
      "metadata": {
        "id": "ic-o1P3r6hr2"
      },
      "source": [
        "## PyG Datasets\n",
        "\n",
        "The `torch_geometric.datasets` class has many common graph datasets. Here we will explore its usage through one example dataset."
      ]
    },
    {
      "cell_type": "code",
      "execution_count": 41,
      "metadata": {
        "id": "zT5qca3x6XpG"
      },
      "outputs": [
        {
          "name": "stdout",
          "output_type": "stream",
          "text": [
            "ENZYMES(600)\n"
          ]
        }
      ],
      "source": [
        "from torch_geometric.datasets import TUDataset\n",
        "\n",
        "if 'IS_GRADESCOPE_ENV' not in os.environ:\n",
        "  root = './enzymes'\n",
        "  name = 'ENZYMES'\n",
        "\n",
        "  # The ENZYMES dataset\n",
        "  pyg_dataset= TUDataset(root, name)\n",
        "\n",
        "  # You will find that there are 600 graphs in this dataset\n",
        "  print(pyg_dataset)\n",
        "  pyg_dataset.num_classes"
      ]
    },
    {
      "cell_type": "markdown",
      "metadata": {
        "id": "NLm5vVYMAP2x"
      },
      "source": [
        "## Question 1: What is the number of classes and number of features in the ENZYMES dataset? (5 points)"
      ]
    },
    {
      "cell_type": "code",
      "execution_count": 42,
      "metadata": {
        "id": "8iF_Kyqr_JbY"
      },
      "outputs": [
        {
          "name": "stdout",
          "output_type": "stream",
          "text": [
            "ENZYMES dataset has 6 classes\n",
            "ENZYMES dataset has 3 features\n"
          ]
        }
      ],
      "source": [
        "def get_num_classes(pyg_dataset):\n",
        "  # TODO: Implement a function that takes a PyG dataset object\n",
        "  # and returns the number of classes for that dataset.\n",
        "\n",
        "  num_classes = 0\n",
        "\n",
        "  ############# Your code here ############\n",
        "  ## (~1 line of code)\n",
        "  ## Note\n",
        "  ## 1. Colab autocomplete functionality might be useful.\n",
        "  num_classes= pyg_dataset.num_classes\n",
        "  #########################################\n",
        "\n",
        "  return num_classes\n",
        "\n",
        "def get_num_features(pyg_dataset):\n",
        "  # TODO: Implement a function that takes a PyG dataset object\n",
        "  # and returns the number of features for that dataset.\n",
        "\n",
        "  num_features = 0\n",
        "\n",
        "  ############# Your code here ############\n",
        "  ## (~1 line of code)\n",
        "  ## Note\n",
        "  ## 1. Colab autocomplete functionality might be useful.\n",
        "  num_features = pyg_dataset.num_features\n",
        "  #########################################\n",
        "\n",
        "  return num_features\n",
        "\n",
        "if 'IS_GRADESCOPE_ENV' not in os.environ:\n",
        "  num_classes = get_num_classes(pyg_dataset)\n",
        "  num_features = get_num_features(pyg_dataset)\n",
        "  print(\"{} dataset has {} classes\".format(name, num_classes))\n",
        "  print(\"{} dataset has {} features\".format(name, num_features))"
      ]
    },
    {
      "cell_type": "code",
      "execution_count": 43,
      "metadata": {},
      "outputs": [
        {
          "data": {
            "text/plain": [
              "Data(edge_index=[2, 168], x=[37, 3], y=[1])"
            ]
          },
          "execution_count": 43,
          "metadata": {},
          "output_type": "execute_result"
        }
      ],
      "source": [
        "pyg_dataset[0]"
      ]
    },
    {
      "cell_type": "markdown",
      "metadata": {
        "id": "rwKbzhHUAckZ"
      },
      "source": [
        "## PyG Data\n",
        "\n",
        "Each PyG dataset stores a list of `torch_geometric.data.Data` objects, where each `torch_geometric.data.Data` object represents a graph. We can easily get the `Data` object by indexing into the dataset.\n",
        "\n",
        "For more information such as what is stored in the `Data` object, please refer to the [documentation](https://pytorch-geometric.readthedocs.io/en/latest/modules/data.html#torch_geometric.data.Data)."
      ]
    },
    {
      "cell_type": "code",
      "execution_count": 44,
      "metadata": {},
      "outputs": [
        {
          "data": {
            "text/plain": [
              "tensor([[ 0,  0,  0,  1,  1,  1,  1,  1,  2,  2,  2,  2,  2,  2,  3,  3,  3,  3,\n",
              "          3,  4,  4,  4,  4,  4,  5,  5,  5,  5,  5,  6,  6,  6,  6,  6,  7,  7,\n",
              "          7,  7,  7,  8,  8,  8,  8,  9,  9,  9,  9,  9, 10, 10, 10, 10, 11, 11,\n",
              "         11, 11, 11, 12, 12, 12, 12, 12, 12, 13, 13, 13, 13, 13, 14, 14, 14, 15,\n",
              "         15, 15, 15, 16, 16, 16, 17, 17, 17, 18, 18, 18, 18, 19, 19, 19, 19, 19,\n",
              "         20, 20, 20, 20, 20, 21, 21, 21, 21, 22, 22, 22],\n",
              "        [ 1,  2, 15,  0,  2,  3, 15, 18,  0,  1,  3,  4, 18, 19,  1,  2,  4,  5,\n",
              "         19,  2,  3,  5,  6, 20,  3,  4,  6,  7, 20,  4,  5,  7,  8, 20,  5,  6,\n",
              "          8,  9, 20,  6,  7,  9, 17,  7,  8, 10, 16, 17,  9, 11, 12, 16, 10, 12,\n",
              "         13, 14, 21, 10, 11, 13, 14, 21, 22, 11, 12, 14, 21, 22, 11, 12, 13,  0,\n",
              "          1, 18, 19,  9, 10, 17,  8,  9, 16,  1,  2, 15, 19,  2,  3, 15, 18, 20,\n",
              "          4,  5,  6,  7, 19, 11, 12, 13, 22, 12, 13, 21]])"
            ]
          },
          "execution_count": 44,
          "metadata": {},
          "output_type": "execute_result"
        }
      ],
      "source": [
        "pyg_dataset[1]['edge_index']"
      ]
    },
    {
      "cell_type": "markdown",
      "metadata": {
        "id": "7sCV3xJWCddX"
      },
      "source": [
        "## Question 2: What is the label of the graph with index 100 in the ENZYMES dataset? (5 points)"
      ]
    },
    {
      "cell_type": "code",
      "execution_count": 45,
      "metadata": {
        "id": "LIis9oTZAfs3"
      },
      "outputs": [
        {
          "name": "stdout",
          "output_type": "stream",
          "text": [
            "Data(edge_index=[2, 168], x=[37, 3], y=[1])\n",
            "Graph with index 100 has label 4\n"
          ]
        }
      ],
      "source": [
        "def get_graph_class(pyg_dataset, idx):\n",
        "  # TODO: Implement a function that takes a PyG dataset object,\n",
        "  # an index of a graph within the dataset, and returns the class/label \n",
        "  # of the graph (as an integer).\n",
        "\n",
        "  label = -1\n",
        "\n",
        "  ############# Your code here ############\n",
        "  ## (~1 line of code)\n",
        "  label = pyg_dataset[idx]['y'][0]\n",
        "  #########################################\n",
        "\n",
        "  return label\n",
        "\n",
        "# Here pyg_dataset is a dataset for graph classification\n",
        "if 'IS_GRADESCOPE_ENV' not in os.environ:\n",
        "  graph_0 = pyg_dataset[0]\n",
        "  print(graph_0)\n",
        "  idx = 100\n",
        "  label = get_graph_class(pyg_dataset, idx)\n",
        "  print('Graph with index {} has label {}'.format(idx, label))"
      ]
    },
    {
      "cell_type": "markdown",
      "metadata": {
        "id": "fKhcVeAhCwoY"
      },
      "source": [
        "## Question 3: How many edges does the graph with index 200 have? (5 points)"
      ]
    },
    {
      "cell_type": "code",
      "execution_count": 46,
      "metadata": {},
      "outputs": [
        {
          "data": {
            "text/plain": [
              "(tensor([ True,  True,  True,  True,  True,  True,  True,  True,  True,  True,\n",
              "          True, False,  True,  True,  True,  True,  True,  True, False,  True,\n",
              "          True,  True,  True,  True, False,  True,  True, False, False,  True,\n",
              "          True,  True,  True,  True,  True, False, False,  True,  True,  True,\n",
              "          True,  True,  True,  True,  True, False, False,  True, False,  True,\n",
              "          True,  True, False, False,  True, False, False, False, False,  True,\n",
              "          True, False, False, False, False, False,  True,  True, False, False,\n",
              "         False,  True,  True, False, False, False,  True, False, False, False,\n",
              "         False,  True, False, False, False, False, False, False, False, False,\n",
              "          True, False, False, False, False, False, False, False, False, False,\n",
              "          True, False, False, False, False, False]),\n",
              " tensor(3),\n",
              " tensor(2),\n",
              " tensor([[ 0,  0,  0,  1,  1,  1,  1,  2,  2,  2,  2,  3,  3,  3,  4,  4,  4,  4,\n",
              "           5,  5,  5,  6,  6,  6,  7,  7,  7,  8,  8,  8,  8,  8,  9,  9,  9, 10,\n",
              "          10, 10, 11, 11, 11, 12, 12, 12, 12, 13, 13, 13, 14, 14, 14, 14, 15, 15,\n",
              "          15, 16, 16, 16, 17, 17, 17, 18, 18, 18, 18, 19, 19, 19, 20, 20, 20, 20,\n",
              "          20, 21, 21, 21, 21, 22, 22, 22, 22, 22, 23, 23, 23, 23, 23, 24, 24, 24,\n",
              "          24, 25, 25, 25, 26, 26, 26, 26, 27, 27, 27, 28, 28, 28, 28, 28],\n",
              "         [21, 22, 23,  7, 15, 23, 24,  3,  5, 13, 26,  2,  8, 16,  8, 10, 16, 18,\n",
              "           2, 13, 26, 14, 24, 25,  1, 15, 23,  3,  4, 10, 16, 18, 17, 21, 22,  4,\n",
              "           8, 18, 19, 20, 28, 18, 20, 27, 28,  2,  5, 26,  6, 24, 25, 26,  1,  7,\n",
              "          23,  3,  4,  8,  9, 21, 22,  4,  8, 10, 12, 11, 20, 28, 11, 12, 19, 27,\n",
              "          28,  0,  9, 17, 22,  0,  9, 17, 21, 23,  0,  1,  7, 15, 22,  1,  6, 14,\n",
              "          25,  6, 14, 24,  2,  5, 13, 14, 12, 20, 28, 11, 12, 19, 20, 27]]),\n",
              " torch.Tensor)"
            ]
          },
          "execution_count": 46,
          "metadata": {},
          "output_type": "execute_result"
        }
      ],
      "source": [
        "dataset =pyg_dataset[200]\n",
        "edge_index = dataset.edge_index\n",
        "idx = 11\n",
        "edge_index[0,:] < edge_index[1,:], edge_index[0,idx], edge_index[1,idx], edge_index, type(edge_index)"
      ]
    },
    {
      "cell_type": "code",
      "execution_count": 47,
      "metadata": {},
      "outputs": [
        {
          "data": {
            "text/plain": [
              "tensor([1, 7])"
            ]
          },
          "execution_count": 47,
          "metadata": {},
          "output_type": "execute_result"
        }
      ],
      "source": [
        "torch.select(edge_index,1,3)"
      ]
    },
    {
      "cell_type": "code",
      "execution_count": 48,
      "metadata": {},
      "outputs": [
        {
          "data": {
            "text/plain": [
              "(tensor([1, 7]), tensor([1, 7]))"
            ]
          },
          "execution_count": 48,
          "metadata": {},
          "output_type": "execute_result"
        }
      ],
      "source": [
        "edge_index.select(1,3), edge_index[:, 3]"
      ]
    },
    {
      "cell_type": "code",
      "execution_count": 49,
      "metadata": {},
      "outputs": [
        {
          "data": {
            "text/plain": [
              "tensor([[ 0,  0,  0,  1,  1,  1,  1,  2,  2,  2,  2,  3,  3,  4,  4,  4,  4,  5,\n",
              "          5,  6,  6,  6,  7,  7,  8,  8,  8,  9,  9,  9, 10, 11, 11, 11, 12, 12,\n",
              "         12, 12, 13, 14, 14, 14, 15, 17, 17, 19, 19, 20, 20, 21, 22, 24, 27],\n",
              "        [21, 22, 23,  7, 15, 23, 24,  3,  5, 13, 26,  8, 16,  8, 10, 16, 18, 13,\n",
              "         26, 14, 24, 25, 15, 23, 10, 16, 18, 17, 21, 22, 18, 19, 20, 28, 18, 20,\n",
              "         27, 28, 26, 24, 25, 26, 23, 21, 22, 20, 28, 27, 28, 22, 23, 25, 28]])"
            ]
          },
          "execution_count": 49,
          "metadata": {},
          "output_type": "execute_result"
        }
      ],
      "source": [
        "edge_index[:,edge_index[0,:] < edge_index[1,:]]"
      ]
    },
    {
      "cell_type": "code",
      "execution_count": 50,
      "metadata": {
        "id": "f5m2DOfhBtWv"
      },
      "outputs": [
        {
          "name": "stdout",
          "output_type": "stream",
          "text": [
            "tensor([[ 0,  0,  0,  1,  1,  1,  1,  2,  2,  2,  2,  3,  3,  4,  4,  4,  4,  5,\n",
            "          5,  6,  6,  6,  7,  7,  8,  8,  8,  9,  9,  9, 10, 11, 11, 11, 12, 12,\n",
            "         12, 12, 13, 14, 14, 14, 15, 17, 17, 19, 19, 20, 20, 21, 22, 24, 27],\n",
            "        [21, 22, 23,  7, 15, 23, 24,  3,  5, 13, 26,  8, 16,  8, 10, 16, 18, 13,\n",
            "         26, 14, 24, 25, 15, 23, 10, 16, 18, 17, 21, 22, 18, 19, 20, 28, 18, 20,\n",
            "         27, 28, 26, 24, 25, 26, 23, 21, 22, 20, 28, 27, 28, 22, 23, 25, 28]])\n",
            "(tensor([  0,   1,   2,   3,   4,   5,   6,   7,   8,   9,  10,  12,  13,  14,\n",
            "         15,  16,  17,  19,  20,  21,  22,  23,  25,  26,  29,  30,  31,  32,\n",
            "         33,  34,  37,  38,  39,  40,  41,  42,  43,  44,  47,  49,  50,  51,\n",
            "         54,  59,  60,  66,  67,  71,  72,  76,  81,  90, 100]),)\n",
            "Graph with index 200 has 53 edges\n"
          ]
        }
      ],
      "source": [
        "def get_graph_num_edges(pyg_dataset, idx):\n",
        "  # TODO: Implement a function that takes a PyG dataset object,\n",
        "  # the index of a graph in the dataset, and returns the number of \n",
        "  # edges in the graph (as an integer). You should not count an edge \n",
        "  # twice if the graph is undirected. For example, in an undirected \n",
        "  # graph G, if two nodes v and u are connected by an edge, this edge\n",
        "  # should only be counted once.\n",
        "\n",
        "  num_edges = 0\n",
        "\n",
        "  ############# Your code here ############\n",
        "  ## Note:\n",
        "  ## 1. You can't return the data.num_edges directly\n",
        "  ## 2. We assume the graph is undirected\n",
        "  ## 3. Look at the PyG dataset built in functions\n",
        "  ## (~4 lines of code)\n",
        "  dataset =pyg_dataset[idx]\n",
        "  edge_index = dataset.edge_index\n",
        "  num_edges = edge_index[:, edge_index[0,:] < edge_index[1,:]]\n",
        "  num_1 = torch.where(edge_index[0,:]< edge_index[1,:])\n",
        "  \n",
        "  print(num_edges)\n",
        "  print(num_1)\n",
        "  # print(edge_index)\n",
        "  # num_edges = len(edge_index[0])\n",
        "  #########################################\n",
        "\n",
        "  return num_edges.shape[1]\n",
        "\n",
        "if 'IS_GRADESCOPE_ENV' not in os.environ:\n",
        "  idx = 200\n",
        "  num_edges = get_graph_num_edges(pyg_dataset, idx)\n",
        "  print('Graph with index {} has {} edges'.format(idx, num_edges))"
      ]
    },
    {
      "cell_type": "markdown",
      "metadata": {
        "id": "AXa7yIG4E0Fp"
      },
      "source": [
        "# 2) Open Graph Benchmark (OGB)\n",
        "\n",
        "The Open Graph Benchmark (OGB) is a collection of realistic, large-scale, and diverse benchmark datasets for machine learning on graphs. Its datasets are automatically downloaded, processed, and split using the OGB Data Loader. The model performance can then be evaluated by using the OGB Evaluator in a unified manner."
      ]
    },
    {
      "cell_type": "markdown",
      "metadata": {
        "id": "HnazPGGAJAZN"
      },
      "source": [
        "## Dataset and Data\n",
        "\n",
        "OGB also supports PyG dataset and data classes. Here we take a look on the `ogbn-arxiv` dataset."
      ]
    },
    {
      "cell_type": "code",
      "execution_count": 51,
      "metadata": {
        "id": "Gpc6bTm3GF02"
      },
      "outputs": [
        {
          "name": "stdout",
          "output_type": "stream",
          "text": [
            "The ogbn-arxiv dataset has 1 graph\n",
            "Data(num_nodes=169343, x=[169343, 128], node_year=[169343, 1], y=[169343, 1], adj_t=[169343, 169343, nnz=1166243])\n"
          ]
        }
      ],
      "source": [
        "import torch_geometric.transforms as T\n",
        "from ogb.nodeproppred import PygNodePropPredDataset\n",
        "\n",
        "if 'IS_GRADESCOPE_ENV' not in os.environ:\n",
        "  dataset_name = 'ogbn-arxiv'\n",
        "  # Load the dataset and transform it to sparse tensor\n",
        "  dataset = PygNodePropPredDataset(name=dataset_name,\n",
        "                                  transform=T.ToSparseTensor())\n",
        "  print('The {} dataset has {} graph'.format(dataset_name, len(dataset)))\n",
        "\n",
        "  # Extract the graph\n",
        "  data = dataset[0]\n",
        "  print(data)"
      ]
    },
    {
      "cell_type": "markdown",
      "metadata": {
        "id": "Cw0xZJKZI-n3"
      },
      "source": [
        "## Question 4: How many features are in the ogbn-arxiv graph? (5 points)"
      ]
    },
    {
      "cell_type": "code",
      "execution_count": 52,
      "metadata": {
        "id": "ZP844_nT2ZJl"
      },
      "outputs": [
        {
          "name": "stdout",
          "output_type": "stream",
          "text": [
            "The graph has 128 features\n"
          ]
        }
      ],
      "source": [
        "def graph_num_features(data):\n",
        "  # TODO: Implement a function that takes a PyG data object,\n",
        "  # and returns the number of features in the graph (as an integer).\n",
        "\n",
        "  num_features = 0\n",
        "\n",
        "  ############# Your code here ############\n",
        "  ## (~1 line of code)\n",
        "  num_features = data.num_features\n",
        "  #########################################\n",
        "\n",
        "  return num_features\n",
        "\n",
        "if 'IS_GRADESCOPE_ENV' not in os.environ:\n",
        "  num_features = graph_num_features(data)\n",
        "  print('The graph has {} features'.format(num_features))"
      ]
    },
    {
      "cell_type": "markdown",
      "metadata": {
        "id": "9DP_yEQZ0NVW"
      },
      "source": [
        "# 3) GNN: Node Property Prediction\n",
        "\n",
        "In this section we will build our first graph neural network using PyTorch Geometric. Then we will apply it to the task of node property prediction (node classification).\n",
        "\n",
        "Specifically, we will use GCN as the foundation for your graph neural network ([Kipf et al. (2017)](https://arxiv.org/pdf/1609.02907.pdf)). To do so, we will work with PyG's built-in `GCNConv` layer. "
      ]
    },
    {
      "cell_type": "markdown",
      "metadata": {
        "id": "O4CcOUEoInjD"
      },
      "source": [
        "## Setup"
      ]
    },
    {
      "cell_type": "code",
      "execution_count": 53,
      "metadata": {
        "id": "-DCtgcHpGIpd"
      },
      "outputs": [
        {
          "name": "stdout",
          "output_type": "stream",
          "text": [
            "1.13.1+cu116\n"
          ]
        }
      ],
      "source": [
        "import torch\n",
        "import pandas as pd\n",
        "import torch.nn.functional as F\n",
        "print(torch.__version__)\n",
        "\n",
        "# The PyG built-in GCNConv\n",
        "from torch_geometric.nn import GCNConv\n",
        "\n",
        "import torch_geometric.transforms as T\n",
        "from ogb.nodeproppred import PygNodePropPredDataset, Evaluator"
      ]
    },
    {
      "cell_type": "markdown",
      "metadata": {
        "id": "0IK9z0wQIwzQ"
      },
      "source": [
        "## Load and Preprocess the Dataset"
      ]
    },
    {
      "cell_type": "code",
      "execution_count": 54,
      "metadata": {
        "id": "0ibJ0ieoIwQM"
      },
      "outputs": [
        {
          "name": "stdout",
          "output_type": "stream",
          "text": [
            "Device: cuda\n"
          ]
        }
      ],
      "source": [
        "if 'IS_GRADESCOPE_ENV' not in os.environ:\n",
        "  dataset_name = 'ogbn-arxiv'\n",
        "  dataset = PygNodePropPredDataset(name=dataset_name,\n",
        "                                  transform=T.ToSparseTensor())\n",
        "  data = dataset[0]\n",
        "\n",
        "  # Make the adjacency matrix to symmetric\n",
        "  data.adj_t = data.adj_t.to_symmetric()\n",
        "\n",
        "  device = 'cuda' if torch.cuda.is_available() else 'cpu'\n",
        "\n",
        "  # If you use GPU, the device should be cuda\n",
        "  print('Device: {}'.format(device))\n",
        "\n",
        "  data = data.to(device)\n",
        "  split_idx = dataset.get_idx_split()\n",
        "  train_idx = split_idx['train'].to(device)"
      ]
    },
    {
      "cell_type": "markdown",
      "metadata": {
        "id": "OgUA815bNJ8w"
      },
      "source": [
        "## GCN Model\n",
        "\n",
        "Now we will implement our GCN model!\n",
        "\n",
        "Please follow the figure below to implement the `forward` function.\n",
        "\n",
        "\n",
        "![test](https://drive.google.com/uc?id=128AuYAXNXGg7PIhJJ7e420DoPWKb-RtL)"
      ]
    },
    {
      "cell_type": "code",
      "execution_count": 55,
      "metadata": {
        "id": "IgspXTYpNJLA"
      },
      "outputs": [],
      "source": [
        "\n",
        "class GCN(torch.nn.Module):\n",
        "    def __init__(self, input_dim, hidden_dim, output_dim, num_layers,\n",
        "                 dropout, return_embeds=False):\n",
        "        # TODO: Implement a function that initializes self.convs, \n",
        "        # self.bns, and self.softmax.\n",
        "\n",
        "        super(GCN, self).__init__()\n",
        "\n",
        "        # A list of GCNConv layers\n",
        "        # self.convs = torch.nn.ModuleList([GCNConv(input_dim, hidden_dim) for i in range(num_layers)])\n",
        "\n",
        "        # A list of 1D batch normalization layers\n",
        "        # self.bns = None\n",
        "\n",
        "        # The log softmax layer\n",
        "        # self.softmax = None\n",
        "\n",
        "        ############# Your code here ############\n",
        "        ## Note:\n",
        "        ## 1. You should use torch.nn.ModuleList for self.convs and self.bns\n",
        "        ## 2. self.convs has num_layers GCNConv layers\n",
        "        ## 3. self.bns has num_layers - 1 BatchNorm1d layers\n",
        "        ## 4. You should use torch.nn.LogSoftmax for self.softmax\n",
        "        ## 5. The parameters you can set for GCNConv include 'in_channels' and \n",
        "        ## 'out_channels'. For more information please refer to the documentation:\n",
        "        ## https://pytorch-geometric.readthedocs.io/en/latest/modules/nn.html#torch_geometric.nn.conv.GCNConv\n",
        "        ## 6. The only parameter you need to set for BatchNorm1d is 'num_features'\n",
        "        ## For more information please refer to the documentation: \n",
        "        ## https://pytorch.org/docs/stable/generated/torch.nn.BatchNorm1d.html\n",
        "        ## (~10 lines of code)\n",
        "\n",
        "        self.convs = torch.nn.ModuleList([GCNConv(input_dim, hidden_dim)]+\n",
        "                                         [GCNConv(hidden_dim, hidden_dim) for _ in range(num_layers-2)] + \n",
        "                                         [GCNConv(hidden_dim, output_dim)])\n",
        "        self.bns = torch.nn.ModuleList([torch.nn.BatchNorm1d(hidden_dim) for _ in range(num_layers - 1)])\n",
        "        self.softmax = torch.nn.LogSoftmax()\n",
        "\n",
        "        #########################################\n",
        "\n",
        "        # Probability of an element getting zeroed\n",
        "        self.dropout = dropout\n",
        "\n",
        "        # Skip classification layer and return node embeddings\n",
        "        self.return_embeds = return_embeds\n",
        "\n",
        "    def reset_parameters(self):\n",
        "        for conv in self.convs:\n",
        "            conv.reset_parameters()\n",
        "        for bn in self.bns:\n",
        "            bn.reset_parameters()\n",
        "\n",
        "    def forward(self, x, adj_t):\n",
        "        # TODO: Implement a function that takes the feature tensor x and\n",
        "        # edge_index tensor adj_t and returns the output tensor as\n",
        "        # shown in the figure.\n",
        "\n",
        "        out = None\n",
        "\n",
        "        ############# Your code here ############\n",
        "        ## Note:\n",
        "        ## 1. Construct the network as shown in the figure\n",
        "        ## 2. torch.nn.functional.relu and torch.nn.functional.dropout are useful\n",
        "        ## For more information please refer to the documentation:\n",
        "        ## https://pytorch.org/docs/stable/nn.functional.html\n",
        "        ## 3. Don't forget to set F.dropout training to self.training\n",
        "        ## 4. If return_embeds is True, then skip the last softmax layer\n",
        "        ## (~7 lines of code)\n",
        "        h = x\n",
        "        for conv, bn in zip(self.convs[:-1], self.bns):\n",
        "            h = conv(h, adj_t)\n",
        "            h = bn(h)\n",
        "            h = torch.nn.functional.relu(h)\n",
        "            h = torch.nn.functional.dropout(h) if self.training else h\n",
        "        # for i, layer in enumerate(self.convs):\n",
        "            \n",
        "        #     h = self.convs[i](h)\n",
        "        #     h = self.bns[i](h)\n",
        "        #     h = torch.nn.functional.relu(h)\n",
        "        #     h = torch.nn.functional.dropout(h)\n",
        "        \n",
        "        h = self.convs[-1](h, adj_t)\n",
        "        out = h if self.return_embeds else self.softmax(h)\n",
        "        #########################################\n",
        "\n",
        "        return out"
      ]
    },
    {
      "cell_type": "code",
      "execution_count": 56,
      "metadata": {
        "id": "FF1hnHUhO81e"
      },
      "outputs": [],
      "source": [
        "def train(model, data, train_idx, optimizer, loss_fn):\n",
        "    # TODO: Implement a function that trains the model by \n",
        "    # using the given optimizer and loss_fn.\n",
        "    model.train()\n",
        "    loss = 0\n",
        "\n",
        "    ############# Your code here ############\n",
        "    ## Note:\n",
        "    ## 1. Zero grad the optimizer\n",
        "    ## 2. Feed the data into the model\n",
        "    ## 3. Slice the model output and label by train_idx\n",
        "    ## 4. Feed the sliced output and label to loss_fn\n",
        "    ## (~4 lines of code)\n",
        "    optimizer.zero_grad()\n",
        "    output  = model.forward(data.x, data.adj_t)\n",
        "    \n",
        "    loss = loss_fn( output[train_idx], data.y[train_idx].reshape(-1))\n",
        "    #########################################\n",
        "\n",
        "    loss.backward()\n",
        "    optimizer.step()\n",
        "\n",
        "    return loss.item()"
      ]
    },
    {
      "cell_type": "code",
      "execution_count": 57,
      "metadata": {
        "id": "aJdlrJQhPBsK"
      },
      "outputs": [],
      "source": [
        "# Test function here\n",
        "@torch.no_grad()\n",
        "def test(model, data, split_idx, evaluator, save_model_results=False):\n",
        "    # TODO: Implement a function that tests the model by \n",
        "    # using the given split_idx and evaluator.\n",
        "    model.eval()\n",
        "\n",
        "    # The output of model on all data\n",
        "    out = None\n",
        "\n",
        "    ############# Your code here ############\n",
        "    ## (~1 line of code)\n",
        "    ## Note:\n",
        "    ## 1. No index slicing here\n",
        "    out = model(data.x, data.adj_t)\n",
        "    #########################################\n",
        "\n",
        "    y_pred = out.argmax(dim=-1, keepdim=True)\n",
        "\n",
        "    train_acc = evaluator.eval({\n",
        "        'y_true': data.y[split_idx['train']],\n",
        "        'y_pred': y_pred[split_idx['train']],\n",
        "    })['acc']\n",
        "    valid_acc = evaluator.eval({\n",
        "        'y_true': data.y[split_idx['valid']],\n",
        "        'y_pred': y_pred[split_idx['valid']],\n",
        "    })['acc']\n",
        "    test_acc = evaluator.eval({\n",
        "        'y_true': data.y[split_idx['test']],\n",
        "        'y_pred': y_pred[split_idx['test']],\n",
        "    })['acc']\n",
        "\n",
        "    if save_model_results:\n",
        "      print (\"Saving Model Predictions\")\n",
        "\n",
        "      data = {}\n",
        "      data['y_pred'] = y_pred.view(-1).cpu().detach().numpy()\n",
        "\n",
        "      df = pd.DataFrame(data=data)\n",
        "      # Save locally as csv\n",
        "      df.to_csv('ogbn-arxiv_node.csv', sep=',', index=False)\n",
        "\n",
        "\n",
        "    return train_acc, valid_acc, test_acc"
      ]
    },
    {
      "cell_type": "code",
      "execution_count": 58,
      "metadata": {
        "id": "o7F46xkuLiOL"
      },
      "outputs": [],
      "source": [
        "# Please do not change the args\n",
        "if 'IS_GRADESCOPE_ENV' not in os.environ:\n",
        "  args = {\n",
        "      'device': device,\n",
        "      'num_layers': 3,\n",
        "      'hidden_dim': 256,\n",
        "      'dropout': 0.5,\n",
        "      'lr': 0.01,\n",
        "      'epochs': 100,\n",
        "  }\n",
        "  args"
      ]
    },
    {
      "cell_type": "code",
      "execution_count": 59,
      "metadata": {
        "id": "dT8RyM2cPGxM"
      },
      "outputs": [],
      "source": [
        "if 'IS_GRADESCOPE_ENV' not in os.environ:\n",
        "  model = GCN(data.num_features, args['hidden_dim'],\n",
        "              dataset.num_classes, args['num_layers'],\n",
        "              args['dropout']).to(device)\n",
        "  evaluator = Evaluator(name='ogbn-arxiv')"
      ]
    },
    {
      "cell_type": "code",
      "execution_count": 60,
      "metadata": {
        "id": "qd5O5cnPPdVF"
      },
      "outputs": [
        {
          "name": "stderr",
          "output_type": "stream",
          "text": [
            "/tmp/ipykernel_18017/3004330468.py:82: UserWarning: Implicit dimension choice for log_softmax has been deprecated. Change the call to include dim=X as an argument.\n",
            "  out = h if self.return_embeds else self.softmax(h)\n"
          ]
        },
        {
          "name": "stdout",
          "output_type": "stream",
          "text": [
            "Epoch: 01, Loss: 4.1887, Train: 23.89%, Valid: 28.28% Test: 25.40%\n",
            "Epoch: 02, Loss: 2.3304, Train: 24.31%, Valid: 21.42% Test: 26.61%\n",
            "Epoch: 03, Loss: 1.9138, Train: 25.60%, Valid: 19.33% Test: 19.17%\n",
            "Epoch: 04, Loss: 1.7477, Train: 27.46%, Valid: 17.57% Test: 15.36%\n",
            "Epoch: 05, Loss: 1.6333, Train: 33.55%, Valid: 21.35% Test: 18.30%\n",
            "Epoch: 06, Loss: 1.5566, Train: 38.98%, Valid: 26.14% Test: 23.24%\n",
            "Epoch: 07, Loss: 1.4912, Train: 38.58%, Valid: 26.93% Test: 25.15%\n",
            "Epoch: 08, Loss: 1.4407, Train: 37.63%, Valid: 26.42% Test: 24.37%\n",
            "Epoch: 09, Loss: 1.3982, Train: 38.47%, Valid: 28.58% Test: 26.89%\n",
            "Epoch: 10, Loss: 1.3712, Train: 40.95%, Valid: 34.86% Test: 34.22%\n",
            "Epoch: 11, Loss: 1.3380, Train: 43.81%, Valid: 40.72% Test: 41.89%\n",
            "Epoch: 12, Loss: 1.3150, Train: 45.61%, Valid: 43.66% Test: 46.07%\n",
            "Epoch: 13, Loss: 1.2896, Train: 47.25%, Valid: 45.34% Test: 48.02%\n",
            "Epoch: 14, Loss: 1.2657, Train: 48.46%, Valid: 47.15% Test: 49.39%\n",
            "Epoch: 15, Loss: 1.2455, Train: 49.58%, Valid: 48.58% Test: 50.02%\n",
            "Epoch: 16, Loss: 1.2329, Train: 51.25%, Valid: 50.72% Test: 51.87%\n",
            "Epoch: 17, Loss: 1.2198, Train: 52.92%, Valid: 53.13% Test: 54.50%\n",
            "Epoch: 18, Loss: 1.2071, Train: 54.78%, Valid: 55.31% Test: 57.44%\n",
            "Epoch: 19, Loss: 1.1950, Train: 56.24%, Valid: 56.99% Test: 59.57%\n",
            "Epoch: 20, Loss: 1.1834, Train: 57.45%, Valid: 57.98% Test: 60.75%\n",
            "Epoch: 21, Loss: 1.1710, Train: 58.85%, Valid: 59.29% Test: 62.10%\n",
            "Epoch: 22, Loss: 1.1586, Train: 61.00%, Valid: 61.57% Test: 63.72%\n",
            "Epoch: 23, Loss: 1.1459, Train: 62.80%, Valid: 63.57% Test: 65.04%\n",
            "Epoch: 24, Loss: 1.1380, Train: 63.80%, Valid: 64.61% Test: 65.79%\n",
            "Epoch: 25, Loss: 1.1317, Train: 64.42%, Valid: 65.23% Test: 66.27%\n",
            "Epoch: 26, Loss: 1.1196, Train: 65.09%, Valid: 65.82% Test: 66.45%\n",
            "Epoch: 27, Loss: 1.1133, Train: 65.66%, Valid: 66.24% Test: 66.32%\n",
            "Epoch: 28, Loss: 1.1115, Train: 66.04%, Valid: 66.47% Test: 66.08%\n",
            "Epoch: 29, Loss: 1.1013, Train: 66.18%, Valid: 66.35% Test: 65.94%\n",
            "Epoch: 30, Loss: 1.0923, Train: 66.11%, Valid: 66.54% Test: 66.35%\n",
            "Epoch: 31, Loss: 1.0865, Train: 65.98%, Valid: 66.49% Test: 66.60%\n",
            "Epoch: 32, Loss: 1.0822, Train: 66.17%, Valid: 66.59% Test: 66.72%\n",
            "Epoch: 33, Loss: 1.0759, Train: 66.75%, Valid: 66.88% Test: 66.79%\n",
            "Epoch: 34, Loss: 1.0706, Train: 67.46%, Valid: 67.14% Test: 66.51%\n",
            "Epoch: 35, Loss: 1.0669, Train: 68.10%, Valid: 67.34% Test: 66.27%\n",
            "Epoch: 36, Loss: 1.0597, Train: 68.69%, Valid: 67.96% Test: 66.60%\n",
            "Epoch: 37, Loss: 1.0549, Train: 69.10%, Valid: 68.43% Test: 67.00%\n",
            "Epoch: 38, Loss: 1.0522, Train: 69.47%, Valid: 68.83% Test: 67.63%\n",
            "Epoch: 39, Loss: 1.0483, Train: 69.72%, Valid: 69.13% Test: 67.97%\n",
            "Epoch: 40, Loss: 1.0452, Train: 69.91%, Valid: 69.20% Test: 68.19%\n",
            "Epoch: 41, Loss: 1.0378, Train: 70.13%, Valid: 69.41% Test: 68.31%\n",
            "Epoch: 42, Loss: 1.0331, Train: 70.31%, Valid: 69.60% Test: 68.66%\n",
            "Epoch: 43, Loss: 1.0328, Train: 70.50%, Valid: 69.82% Test: 69.16%\n",
            "Epoch: 44, Loss: 1.0304, Train: 70.48%, Valid: 70.04% Test: 69.51%\n",
            "Epoch: 45, Loss: 1.0296, Train: 70.56%, Valid: 69.98% Test: 69.68%\n",
            "Epoch: 46, Loss: 1.0216, Train: 70.69%, Valid: 69.95% Test: 69.55%\n",
            "Epoch: 47, Loss: 1.0183, Train: 70.79%, Valid: 69.87% Test: 69.00%\n",
            "Epoch: 48, Loss: 1.0158, Train: 70.92%, Valid: 69.85% Test: 68.96%\n",
            "Epoch: 49, Loss: 1.0120, Train: 71.09%, Valid: 70.12% Test: 69.18%\n",
            "Epoch: 50, Loss: 1.0107, Train: 71.26%, Valid: 70.22% Test: 69.32%\n",
            "Epoch: 51, Loss: 1.0052, Train: 71.32%, Valid: 70.25% Test: 69.58%\n",
            "Epoch: 52, Loss: 1.0039, Train: 71.27%, Valid: 70.19% Test: 69.61%\n",
            "Epoch: 53, Loss: 0.9984, Train: 71.32%, Valid: 70.17% Test: 69.64%\n",
            "Epoch: 54, Loss: 0.9977, Train: 71.42%, Valid: 70.31% Test: 69.92%\n",
            "Epoch: 55, Loss: 0.9950, Train: 71.54%, Valid: 70.58% Test: 70.13%\n",
            "Epoch: 56, Loss: 0.9916, Train: 71.64%, Valid: 70.78% Test: 70.30%\n",
            "Epoch: 57, Loss: 0.9917, Train: 71.79%, Valid: 70.81% Test: 70.33%\n",
            "Epoch: 58, Loss: 0.9894, Train: 71.80%, Valid: 70.83% Test: 70.07%\n",
            "Epoch: 59, Loss: 0.9866, Train: 71.85%, Valid: 70.83% Test: 69.93%\n",
            "Epoch: 60, Loss: 0.9794, Train: 71.94%, Valid: 70.67% Test: 69.82%\n",
            "Epoch: 61, Loss: 0.9819, Train: 72.01%, Valid: 70.52% Test: 69.60%\n",
            "Epoch: 62, Loss: 0.9788, Train: 72.06%, Valid: 70.62% Test: 69.47%\n",
            "Epoch: 63, Loss: 0.9769, Train: 72.13%, Valid: 70.88% Test: 69.84%\n",
            "Epoch: 64, Loss: 0.9747, Train: 72.14%, Valid: 71.00% Test: 70.20%\n",
            "Epoch: 65, Loss: 0.9730, Train: 72.25%, Valid: 71.17% Test: 70.43%\n",
            "Epoch: 66, Loss: 0.9696, Train: 72.42%, Valid: 71.20% Test: 70.48%\n",
            "Epoch: 67, Loss: 0.9671, Train: 72.52%, Valid: 71.31% Test: 70.36%\n",
            "Epoch: 68, Loss: 0.9665, Train: 72.50%, Valid: 71.17% Test: 70.29%\n",
            "Epoch: 69, Loss: 0.9625, Train: 72.48%, Valid: 71.16% Test: 70.36%\n",
            "Epoch: 70, Loss: 0.9630, Train: 72.58%, Valid: 71.13% Test: 70.20%\n",
            "Epoch: 71, Loss: 0.9600, Train: 72.66%, Valid: 71.10% Test: 69.98%\n",
            "Epoch: 72, Loss: 0.9559, Train: 72.62%, Valid: 71.19% Test: 70.19%\n",
            "Epoch: 73, Loss: 0.9575, Train: 72.63%, Valid: 71.35% Test: 70.59%\n",
            "Epoch: 74, Loss: 0.9576, Train: 72.67%, Valid: 71.49% Test: 70.92%\n",
            "Epoch: 75, Loss: 0.9545, Train: 72.66%, Valid: 71.44% Test: 70.87%\n",
            "Epoch: 76, Loss: 0.9497, Train: 72.76%, Valid: 71.27% Test: 70.45%\n",
            "Epoch: 77, Loss: 0.9487, Train: 72.80%, Valid: 71.11% Test: 70.11%\n",
            "Epoch: 78, Loss: 0.9488, Train: 72.91%, Valid: 71.13% Test: 70.09%\n",
            "Epoch: 79, Loss: 0.9433, Train: 73.00%, Valid: 71.29% Test: 70.36%\n",
            "Epoch: 80, Loss: 0.9411, Train: 73.03%, Valid: 71.25% Test: 70.13%\n",
            "Epoch: 81, Loss: 0.9412, Train: 73.06%, Valid: 71.19% Test: 69.80%\n",
            "Epoch: 82, Loss: 0.9401, Train: 73.15%, Valid: 71.15% Test: 69.70%\n",
            "Epoch: 83, Loss: 0.9392, Train: 72.96%, Valid: 71.43% Test: 70.41%\n",
            "Epoch: 84, Loss: 0.9400, Train: 72.82%, Valid: 71.29% Test: 70.69%\n",
            "Epoch: 85, Loss: 0.9367, Train: 73.10%, Valid: 71.62% Test: 70.94%\n",
            "Epoch: 86, Loss: 0.9327, Train: 73.22%, Valid: 71.66% Test: 70.68%\n",
            "Epoch: 87, Loss: 0.9305, Train: 73.35%, Valid: 71.57% Test: 70.36%\n",
            "Epoch: 88, Loss: 0.9311, Train: 73.42%, Valid: 71.53% Test: 70.34%\n",
            "Epoch: 89, Loss: 0.9273, Train: 73.49%, Valid: 71.51% Test: 70.38%\n",
            "Epoch: 90, Loss: 0.9253, Train: 73.56%, Valid: 71.36% Test: 70.17%\n",
            "Epoch: 91, Loss: 0.9289, Train: 73.49%, Valid: 71.45% Test: 70.51%\n",
            "Epoch: 92, Loss: 0.9219, Train: 73.17%, Valid: 71.18% Test: 70.39%\n",
            "Epoch: 93, Loss: 0.9230, Train: 73.30%, Valid: 71.20% Test: 70.00%\n",
            "Epoch: 94, Loss: 0.9200, Train: 73.71%, Valid: 71.47% Test: 70.31%\n",
            "Epoch: 95, Loss: 0.9193, Train: 73.76%, Valid: 71.91% Test: 71.24%\n",
            "Epoch: 96, Loss: 0.9171, Train: 73.72%, Valid: 71.93% Test: 71.59%\n",
            "Epoch: 97, Loss: 0.9164, Train: 73.71%, Valid: 71.88% Test: 71.28%\n",
            "Epoch: 98, Loss: 0.9163, Train: 73.71%, Valid: 71.49% Test: 70.39%\n",
            "Epoch: 99, Loss: 0.9157, Train: 73.75%, Valid: 71.38% Test: 70.11%\n",
            "Epoch: 100, Loss: 0.9124, Train: 73.69%, Valid: 71.45% Test: 70.91%\n"
          ]
        }
      ],
      "source": [
        "import copy\n",
        "if 'IS_GRADESCOPE_ENV' not in os.environ:\n",
        "  # reset the parameters to initial random value\n",
        "  # model.reset_parameters()\n",
        "\n",
        "  optimizer = torch.optim.Adam(model.parameters(), lr=args['lr'])\n",
        "  loss_fn = F.nll_loss\n",
        "\n",
        "  best_model = None\n",
        "  best_valid_acc = 0\n",
        "\n",
        "  for epoch in range(1, 1 + args[\"epochs\"]):\n",
        "    loss = train(model, data, train_idx, optimizer, loss_fn)\n",
        "    result = test(model, data, split_idx, evaluator)\n",
        "    train_acc, valid_acc, test_acc = result\n",
        "    if valid_acc > best_valid_acc:\n",
        "        best_valid_acc = valid_acc\n",
        "        best_model = copy.deepcopy(model)\n",
        "    print(f'Epoch: {epoch:02d}, '\n",
        "          f'Loss: {loss:.4f}, '\n",
        "          f'Train: {100 * train_acc:.2f}%, '\n",
        "          f'Valid: {100 * valid_acc:.2f}% '\n",
        "          f'Test: {100 * test_acc:.2f}%')"
      ]
    },
    {
      "cell_type": "markdown",
      "metadata": {
        "id": "dQtt-EKA8P4r"
      },
      "source": [
        "## Question 5: What are your `best_model` validation and test accuracies?(20 points)\n",
        "\n",
        "Run the cell below to see the results of your best of model and save your model's predictions to a file named *ogbn-arxiv_node.csv*. \n",
        "\n",
        "You can view this file by clicking on the *Folder* icon on the left side pannel. As in Colab 1, when you sumbit your assignment, you will have to download this file and attatch it to your submission."
      ]
    },
    {
      "cell_type": "code",
      "execution_count": 61,
      "metadata": {
        "id": "EqcextqOL2FX"
      },
      "outputs": [
        {
          "name": "stdout",
          "output_type": "stream",
          "text": [
            "Saving Model Predictions\n",
            "Best model: Train: 73.72%, Valid: 71.93% Test: 71.59%\n"
          ]
        },
        {
          "name": "stderr",
          "output_type": "stream",
          "text": [
            "/tmp/ipykernel_18017/3004330468.py:82: UserWarning: Implicit dimension choice for log_softmax has been deprecated. Change the call to include dim=X as an argument.\n",
            "  out = h if self.return_embeds else self.softmax(h)\n"
          ]
        }
      ],
      "source": [
        "if 'IS_GRADESCOPE_ENV' not in os.environ:\n",
        "  best_result = test(best_model, data, split_idx, evaluator, save_model_results=True)\n",
        "  train_acc, valid_acc, test_acc = best_result\n",
        "  print(f'Best model: '\n",
        "        f'Train: {100 * train_acc:.2f}%, '\n",
        "        f'Valid: {100 * valid_acc:.2f}% '\n",
        "        f'Test: {100 * test_acc:.2f}%')"
      ]
    },
    {
      "cell_type": "markdown",
      "metadata": {
        "id": "R8pOD6y80TyI"
      },
      "source": [
        "# 4) GNN: Graph Property Prediction\n",
        "\n",
        "In this section we will create a graph neural network for graph property prediction (graph classification).\n"
      ]
    },
    {
      "cell_type": "markdown",
      "metadata": {
        "id": "vRg5VOEdQTa4"
      },
      "source": [
        "## Load and preprocess the dataset"
      ]
    },
    {
      "cell_type": "code",
      "execution_count": 62,
      "metadata": {
        "id": "LXb-O5QUIgTH"
      },
      "outputs": [
        {
          "name": "stdout",
          "output_type": "stream",
          "text": [
            "Device: cuda\n",
            "Task type: binary classification\n"
          ]
        }
      ],
      "source": [
        "from ogb.graphproppred import PygGraphPropPredDataset, Evaluator\n",
        "from torch_geometric.data import DataLoader\n",
        "from tqdm.notebook import tqdm\n",
        "\n",
        "if 'IS_GRADESCOPE_ENV' not in os.environ:\n",
        "  # Load the dataset \n",
        "  dataset = PygGraphPropPredDataset(name='ogbg-molhiv')\n",
        "\n",
        "  device = 'cuda' if torch.cuda.is_available() else 'cpu'\n",
        "  print('Device: {}'.format(device))\n",
        "\n",
        "  split_idx = dataset.get_idx_split()\n",
        "\n",
        "  # Check task type\n",
        "  print('Task type: {}'.format(dataset.task_type))"
      ]
    },
    {
      "cell_type": "code",
      "execution_count": 63,
      "metadata": {
        "id": "7cHHbgW1c5hi"
      },
      "outputs": [
        {
          "name": "stderr",
          "output_type": "stream",
          "text": [
            "/home/projects/stanford_graph_ml_course/venv_graph_ml/lib/python3.10/site-packages/torch_geometric/deprecation.py:12: UserWarning: 'data.DataLoader' is deprecated, use 'loader.DataLoader' instead\n",
            "  warnings.warn(out)\n"
          ]
        }
      ],
      "source": [
        "# Load the dataset splits into corresponding dataloaders\n",
        "# We will train the graph classification task on a batch of 32 graphs\n",
        "# Shuffle the order of graphs for training set\n",
        "if 'IS_GRADESCOPE_ENV' not in os.environ:\n",
        "  train_loader = DataLoader(dataset[split_idx[\"train\"]], batch_size=32, shuffle=True, num_workers=0)\n",
        "  valid_loader = DataLoader(dataset[split_idx[\"valid\"]], batch_size=32, shuffle=False, num_workers=0)\n",
        "  test_loader = DataLoader(dataset[split_idx[\"test\"]], batch_size=32, shuffle=False, num_workers=0)"
      ]
    },
    {
      "cell_type": "code",
      "execution_count": 64,
      "metadata": {
        "id": "AYrSnOj0Y4DK"
      },
      "outputs": [],
      "source": [
        "if 'IS_GRADESCOPE_ENV' not in os.environ:\n",
        "  # Please do not change the args\n",
        "  args = {\n",
        "      'device': device,\n",
        "      'num_layers': 5,\n",
        "      'hidden_dim': 256,\n",
        "      'dropout': 0.5,\n",
        "      'lr': 0.001,\n",
        "      'epochs': 30,\n",
        "  }\n",
        "  args"
      ]
    },
    {
      "cell_type": "markdown",
      "metadata": {
        "id": "7WLhguSTeazy"
      },
      "source": [
        "## Graph Prediction Model"
      ]
    },
    {
      "cell_type": "markdown",
      "metadata": {
        "id": "u05Z14TRYPGn"
      },
      "source": [
        "### Graph Mini-Batching\n",
        "Before diving into the actual model, we introduce the concept of mini-batching with graphs. In order to parallelize the processing of a mini-batch of graphs, PyG combines the graphs into a single disconnected graph data object (*torch_geometric.data.Batch*). *torch_geometric.data.Batch* inherits from *torch_geometric.data.Data* (introduced earlier) and contains an additional attribute called `batch`. \n",
        "\n",
        "The `batch` attribute is a vector mapping each node to the index of its corresponding graph within the mini-batch:\n",
        "\n",
        "    batch = [0, ..., 0, 1, ..., n - 2, n - 1, ..., n - 1]\n",
        "\n",
        "This attribute is crucial for associating which graph each node belongs to and can be used to e.g. average the node embeddings for each graph individually to compute graph level embeddings. \n",
        "\n"
      ]
    },
    {
      "cell_type": "markdown",
      "metadata": {
        "id": "Pcic9NNU3nGK"
      },
      "source": [
        "### Implemention\n",
        "Now, we have all of the tools to implement a GCN Graph Prediction model!  \n",
        "\n",
        "We will reuse the existing GCN model to generate `node_embeddings` and then use  `Global Pooling` over the nodes to create graph level embeddings that can be used to predict properties for the each graph. Remeber that the `batch` attribute will be essential for performining Global Pooling over our mini-batch of graphs."
      ]
    },
    {
      "cell_type": "code",
      "execution_count": 65,
      "metadata": {
        "id": "3_Kq3zyjeZ22"
      },
      "outputs": [],
      "source": [
        "from ogb.graphproppred.mol_encoder import AtomEncoder\n",
        "from torch_geometric.nn import global_add_pool, global_mean_pool\n",
        "\n",
        "### GCN to predict graph property\n",
        "class GCN_Graph(torch.nn.Module):\n",
        "    def __init__(self, hidden_dim, output_dim, num_layers, dropout):\n",
        "        super(GCN_Graph, self).__init__()\n",
        "\n",
        "        # Load encoders for Atoms in molecule graphs\n",
        "        self.node_encoder = AtomEncoder(hidden_dim)\n",
        "\n",
        "        # Node embedding model\n",
        "        # Note that the input_dim and output_dim are set to hidden_dim\n",
        "        self.gnn_node = GCN(hidden_dim, hidden_dim,\n",
        "            hidden_dim, num_layers, dropout, return_embeds=True)\n",
        "\n",
        "        # self.pool = None\n",
        "\n",
        "        ############# Your code here ############\n",
        "        ## Note:\n",
        "        ## 1. Initialize self.pool as a global mean pooling layer\n",
        "        ## For more information please refer to the documentation:\n",
        "        ## https://pytorch-geometric.readthedocs.io/en/latest/modules/nn.html#global-pooling-layers\n",
        "        self.pool = global_mean_pool\n",
        "        #########################################\n",
        "\n",
        "        # Output layer\n",
        "        self.linear = torch.nn.Linear(hidden_dim, output_dim)\n",
        "\n",
        "\n",
        "    def reset_parameters(self):\n",
        "      self.gnn_node.reset_parameters()\n",
        "      self.linear.reset_parameters()\n",
        "\n",
        "    def forward(self, batched_data):\n",
        "        # TODO: Implement a function that takes as input a \n",
        "        # mini-batch of graphs (torch_geometric.data.Batch) and \n",
        "        # returns the predicted graph property for each graph. \n",
        "        #\n",
        "        # NOTE: Since we are predicting graph level properties,\n",
        "        # your output will be a tensor with dimension equaling\n",
        "        # the number of graphs in the mini-batch\n",
        "\n",
        "    \n",
        "        # Extract important attributes of our mini-batch\n",
        "        x, edge_index, batch = batched_data.x, batched_data.edge_index, batched_data.batch\n",
        "        embed = self.node_encoder(x)\n",
        "\n",
        "        out = None\n",
        "\n",
        "        ############# Your code here ############\n",
        "        ## Note:\n",
        "        ## 1. Construct node embeddings using existing GCN model\n",
        "        ## 2. Use the global pooling layer to aggregate features for each individual graph\n",
        "        ## For more information please refer to the documentation:\n",
        "        ## https://pytorch-geometric.readthedocs.io/en/latest/modules/nn.html#global-pooling-layers\n",
        "        ## 3. Use a linear layer to predict each graph's property\n",
        "        ## (~3 lines of code)\n",
        "        embed = self.gnn_node(embed, edge_index)\n",
        "        features = self.pool(embed, batch)\n",
        "        out = self.linear(features)\n",
        "        #########################################\n",
        "\n",
        "        return out"
      ]
    },
    {
      "cell_type": "code",
      "execution_count": 66,
      "metadata": {
        "id": "FJjnGuMSbjX0"
      },
      "outputs": [],
      "source": [
        "def train(model, device, data_loader, optimizer, loss_fn):\n",
        "    # TODO: Implement a function that trains your model by \n",
        "    # using the given optimizer and loss_fn.\n",
        "    model.train()\n",
        "    loss = 0\n",
        "\n",
        "    for step, batch in enumerate(tqdm(data_loader, desc=\"Iteration\")):\n",
        "      batch = batch.to(device)\n",
        "\n",
        "      if batch.x.shape[0] == 1 or batch.batch[-1] == 0:\n",
        "          pass\n",
        "      else:\n",
        "        ## ignore nan targets (unlabeled) when computing training loss.\n",
        "        is_labeled = batch.y == batch.y\n",
        "\n",
        "        ############# Your code here ############\n",
        "        ## Note:\n",
        "        ## 1. Zero grad the optimizer\n",
        "        ## 2. Feed the data into the model\n",
        "        ## 3. Use `is_labeled` mask to filter output and labels\n",
        "        ## 4. You may need to change the type of label to torch.float32\n",
        "        ## 5. Feed the output and label to the loss_fn\n",
        "        ## (~3 lines of code)\n",
        "        optimizer.zero_grad()\n",
        "        res = model(batch)\n",
        "        loss = loss_fn(res[is_labeled], batch.y[is_labeled].float())\n",
        "        #########################################\n",
        "\n",
        "        loss.backward()\n",
        "        optimizer.step()\n",
        "\n",
        "    return loss.item()"
      ]
    },
    {
      "cell_type": "code",
      "execution_count": 67,
      "metadata": {
        "id": "ztPHXq_Gzn7U"
      },
      "outputs": [],
      "source": [
        "# The evaluation function\n",
        "def eval(model, device, loader, evaluator, save_model_results=False, save_file=None):\n",
        "    model.eval()\n",
        "    y_true = []\n",
        "    y_pred = []\n",
        "\n",
        "    for step, batch in enumerate(tqdm(loader, desc=\"Iteration\")):\n",
        "        batch = batch.to(device)\n",
        "\n",
        "        if batch.x.shape[0] == 1:\n",
        "            pass\n",
        "        else:\n",
        "            with torch.no_grad():\n",
        "                pred = model(batch)\n",
        "\n",
        "            y_true.append(batch.y.view(pred.shape).detach().cpu())\n",
        "            y_pred.append(pred.detach().cpu())\n",
        "\n",
        "    y_true = torch.cat(y_true, dim = 0).numpy()\n",
        "    y_pred = torch.cat(y_pred, dim = 0).numpy()\n",
        "\n",
        "    input_dict = {\"y_true\": y_true, \"y_pred\": y_pred}\n",
        "\n",
        "    if save_model_results:\n",
        "        print (\"Saving Model Predictions\")\n",
        "        \n",
        "        # Create a pandas dataframe with a two columns\n",
        "        # y_pred | y_true\n",
        "        data = {}\n",
        "        data['y_pred'] = y_pred.reshape(-1)\n",
        "        data['y_true'] = y_true.reshape(-1)\n",
        "\n",
        "        df = pd.DataFrame(data=data)\n",
        "        # Save to csv\n",
        "        df.to_csv('ogbg-molhiv_graph_' + save_file + '.csv', sep=',', index=False)\n",
        "\n",
        "    return evaluator.eval(input_dict)"
      ]
    },
    {
      "cell_type": "code",
      "execution_count": 68,
      "metadata": {
        "id": "MR1wQ4hMZeMw"
      },
      "outputs": [],
      "source": [
        "if 'IS_GRADESCOPE_ENV' not in os.environ:\n",
        "  model = GCN_Graph(args['hidden_dim'],\n",
        "              dataset.num_tasks, args['num_layers'],\n",
        "              args['dropout']).to(device)\n",
        "  evaluator = Evaluator(name='ogbg-molhiv')"
      ]
    },
    {
      "cell_type": "code",
      "execution_count": 73,
      "metadata": {
        "id": "qJGTNZiuZy0A"
      },
      "outputs": [
        {
          "name": "stdout",
          "output_type": "stream",
          "text": [
            "Training...\n"
          ]
        },
        {
          "ename": "ImportError",
          "evalue": "IProgress not found. Please update jupyter and ipywidgets. See https://ipywidgets.readthedocs.io/en/stable/user_install.html",
          "output_type": "error",
          "traceback": [
            "\u001b[0;31m---------------------------------------------------------------------------\u001b[0m",
            "\u001b[0;31mImportError\u001b[0m                               Traceback (most recent call last)",
            "Cell \u001b[0;32mIn[73], line 14\u001b[0m\n\u001b[1;32m     12\u001b[0m \u001b[39mfor\u001b[39;00m epoch \u001b[39min\u001b[39;00m \u001b[39mrange\u001b[39m(\u001b[39m1\u001b[39m, \u001b[39m1\u001b[39m \u001b[39m+\u001b[39m args[\u001b[39m\"\u001b[39m\u001b[39mepochs\u001b[39m\u001b[39m\"\u001b[39m]):\n\u001b[1;32m     13\u001b[0m   \u001b[39mprint\u001b[39m(\u001b[39m'\u001b[39m\u001b[39mTraining...\u001b[39m\u001b[39m'\u001b[39m)\n\u001b[0;32m---> 14\u001b[0m   loss \u001b[39m=\u001b[39m train(model, device, train_loader, optimizer, loss_fn)\n\u001b[1;32m     16\u001b[0m   \u001b[39mprint\u001b[39m(\u001b[39m'\u001b[39m\u001b[39mEvaluating...\u001b[39m\u001b[39m'\u001b[39m)\n\u001b[1;32m     17\u001b[0m   train_result \u001b[39m=\u001b[39m \u001b[39meval\u001b[39m(model, device, train_loader, evaluator)\n",
            "Cell \u001b[0;32mIn[66], line 7\u001b[0m, in \u001b[0;36mtrain\u001b[0;34m(model, device, data_loader, optimizer, loss_fn)\u001b[0m\n\u001b[1;32m      4\u001b[0m model\u001b[39m.\u001b[39mtrain()\n\u001b[1;32m      5\u001b[0m loss \u001b[39m=\u001b[39m \u001b[39m0\u001b[39m\n\u001b[0;32m----> 7\u001b[0m \u001b[39mfor\u001b[39;00m step, batch \u001b[39min\u001b[39;00m \u001b[39menumerate\u001b[39m(tqdm(data_loader, desc\u001b[39m=\u001b[39;49m\u001b[39m\"\u001b[39;49m\u001b[39mIteration\u001b[39;49m\u001b[39m\"\u001b[39;49m)):\n\u001b[1;32m      8\u001b[0m   batch \u001b[39m=\u001b[39m batch\u001b[39m.\u001b[39mto(device)\n\u001b[1;32m     10\u001b[0m   \u001b[39mif\u001b[39;00m batch\u001b[39m.\u001b[39mx\u001b[39m.\u001b[39mshape[\u001b[39m0\u001b[39m] \u001b[39m==\u001b[39m \u001b[39m1\u001b[39m \u001b[39mor\u001b[39;00m batch\u001b[39m.\u001b[39mbatch[\u001b[39m-\u001b[39m\u001b[39m1\u001b[39m] \u001b[39m==\u001b[39m \u001b[39m0\u001b[39m:\n",
            "File \u001b[0;32m/home/projects/stanford_graph_ml_course/venv_graph_ml/lib/python3.10/site-packages/tqdm/notebook.py:243\u001b[0m, in \u001b[0;36mtqdm_notebook.__init__\u001b[0;34m(self, *args, **kwargs)\u001b[0m\n\u001b[1;32m    241\u001b[0m unit_scale \u001b[39m=\u001b[39m \u001b[39m1\u001b[39m \u001b[39mif\u001b[39;00m \u001b[39mself\u001b[39m\u001b[39m.\u001b[39munit_scale \u001b[39mis\u001b[39;00m \u001b[39mTrue\u001b[39;00m \u001b[39melse\u001b[39;00m \u001b[39mself\u001b[39m\u001b[39m.\u001b[39munit_scale \u001b[39mor\u001b[39;00m \u001b[39m1\u001b[39m\n\u001b[1;32m    242\u001b[0m total \u001b[39m=\u001b[39m \u001b[39mself\u001b[39m\u001b[39m.\u001b[39mtotal \u001b[39m*\u001b[39m unit_scale \u001b[39mif\u001b[39;00m \u001b[39mself\u001b[39m\u001b[39m.\u001b[39mtotal \u001b[39melse\u001b[39;00m \u001b[39mself\u001b[39m\u001b[39m.\u001b[39mtotal\n\u001b[0;32m--> 243\u001b[0m \u001b[39mself\u001b[39m\u001b[39m.\u001b[39mcontainer \u001b[39m=\u001b[39m \u001b[39mself\u001b[39;49m\u001b[39m.\u001b[39;49mstatus_printer(\u001b[39mself\u001b[39;49m\u001b[39m.\u001b[39;49mfp, total, \u001b[39mself\u001b[39;49m\u001b[39m.\u001b[39;49mdesc, \u001b[39mself\u001b[39;49m\u001b[39m.\u001b[39;49mncols)\n\u001b[1;32m    244\u001b[0m \u001b[39mself\u001b[39m\u001b[39m.\u001b[39mcontainer\u001b[39m.\u001b[39mpbar \u001b[39m=\u001b[39m proxy(\u001b[39mself\u001b[39m)\n\u001b[1;32m    245\u001b[0m \u001b[39mself\u001b[39m\u001b[39m.\u001b[39mdisplayed \u001b[39m=\u001b[39m \u001b[39mFalse\u001b[39;00m\n",
            "File \u001b[0;32m/home/projects/stanford_graph_ml_course/venv_graph_ml/lib/python3.10/site-packages/tqdm/notebook.py:118\u001b[0m, in \u001b[0;36mtqdm_notebook.status_printer\u001b[0;34m(_, total, desc, ncols)\u001b[0m\n\u001b[1;32m    109\u001b[0m \u001b[39m# Fallback to text bar if there's no total\u001b[39;00m\n\u001b[1;32m    110\u001b[0m \u001b[39m# DEPRECATED: replaced with an 'info' style bar\u001b[39;00m\n\u001b[1;32m    111\u001b[0m \u001b[39m# if not total:\u001b[39;00m\n\u001b[0;32m   (...)\u001b[0m\n\u001b[1;32m    115\u001b[0m \n\u001b[1;32m    116\u001b[0m \u001b[39m# Prepare IPython progress bar\u001b[39;00m\n\u001b[1;32m    117\u001b[0m \u001b[39mif\u001b[39;00m IProgress \u001b[39mis\u001b[39;00m \u001b[39mNone\u001b[39;00m:  \u001b[39m# #187 #451 #558 #872\u001b[39;00m\n\u001b[0;32m--> 118\u001b[0m     \u001b[39mraise\u001b[39;00m \u001b[39mImportError\u001b[39;00m(WARN_NOIPYW)\n\u001b[1;32m    119\u001b[0m \u001b[39mif\u001b[39;00m total:\n\u001b[1;32m    120\u001b[0m     pbar \u001b[39m=\u001b[39m IProgress(\u001b[39mmin\u001b[39m\u001b[39m=\u001b[39m\u001b[39m0\u001b[39m, \u001b[39mmax\u001b[39m\u001b[39m=\u001b[39mtotal)\n",
            "\u001b[0;31mImportError\u001b[0m: IProgress not found. Please update jupyter and ipywidgets. See https://ipywidgets.readthedocs.io/en/stable/user_install.html"
          ]
        }
      ],
      "source": [
        "import copy\n",
        "\n",
        "if 'IS_GRADESCOPE_ENV' not in os.environ:\n",
        "  model.reset_parameters()\n",
        "\n",
        "  optimizer = torch.optim.Adam(model.parameters(), lr=args['lr'])\n",
        "  loss_fn = torch.nn.BCEWithLogitsLoss()\n",
        "\n",
        "  best_model = None\n",
        "  best_valid_acc = 0\n",
        "\n",
        "  for epoch in range(1, 1 + args[\"epochs\"]):\n",
        "    print('Training...')\n",
        "    loss = train(model, device, train_loader, optimizer, loss_fn)\n",
        "\n",
        "    print('Evaluating...')\n",
        "    train_result = eval(model, device, train_loader, evaluator)\n",
        "    val_result = eval(model, device, valid_loader, evaluator)\n",
        "    test_result = eval(model, device, test_loader, evaluator)\n",
        "\n",
        "    train_acc, valid_acc, test_acc = train_result[dataset.eval_metric], val_result[dataset.eval_metric], test_result[dataset.eval_metric]\n",
        "    if valid_acc > best_valid_acc:\n",
        "        best_valid_acc = valid_acc\n",
        "        best_model = copy.deepcopy(model)\n",
        "    print(f'Epoch: {epoch:02d}, '\n",
        "          f'Loss: {loss:.4f}, '\n",
        "          f'Train: {100 * train_acc:.2f}%, '\n",
        "          f'Valid: {100 * valid_acc:.2f}% '\n",
        "          f'Test: {100 * test_acc:.2f}%')"
      ]
    },
    {
      "cell_type": "markdown",
      "metadata": {
        "id": "6I17-Qso_n88"
      },
      "source": [
        "## Question 6: What are your `best_model` validation and test ROC-AUC scores? (20 points)\n",
        "\n",
        "Run the cell below to see the results of your best of model and save your model's predictions over the validation and test datasets. The resulting files are named *ogbn-arxiv_graph_valid.csv* and *ogbn-arxiv_graph_test.csv*. \n",
        "\n",
        "Again, you can view these files by clicking on the *Folder* icon on the left side pannel. As in Colab 1, when you sumbit your assignment, you will have to download these files and attatch them to your submission."
      ]
    },
    {
      "cell_type": "code",
      "execution_count": 150,
      "metadata": {
        "id": "Oq5QaG21dOOO"
      },
      "outputs": [
        {
          "ename": "TypeError",
          "evalue": "eval expected at most 3 arguments, got 4",
          "output_type": "error",
          "traceback": [
            "\u001b[0;31m---------------------------------------------------------------------------\u001b[0m",
            "\u001b[0;31mTypeError\u001b[0m                                 Traceback (most recent call last)",
            "Cell \u001b[0;32mIn[150], line 2\u001b[0m\n\u001b[1;32m      1\u001b[0m \u001b[39mif\u001b[39;00m \u001b[39m'\u001b[39m\u001b[39mIS_GRADESCOPE_ENV\u001b[39m\u001b[39m'\u001b[39m \u001b[39mnot\u001b[39;00m \u001b[39min\u001b[39;00m os\u001b[39m.\u001b[39menviron:\n\u001b[0;32m----> 2\u001b[0m   train_acc \u001b[39m=\u001b[39m \u001b[39meval\u001b[39;49m(best_model, device, train_loader, evaluator)[dataset\u001b[39m.\u001b[39meval_metric]\n\u001b[1;32m      3\u001b[0m   valid_acc \u001b[39m=\u001b[39m \u001b[39meval\u001b[39m(best_model, device, valid_loader, evaluator, save_model_results\u001b[39m=\u001b[39m\u001b[39mTrue\u001b[39;00m, save_file\u001b[39m=\u001b[39m\u001b[39m\"\u001b[39m\u001b[39mvalid\u001b[39m\u001b[39m\"\u001b[39m)[dataset\u001b[39m.\u001b[39meval_metric]\n\u001b[1;32m      4\u001b[0m   test_acc  \u001b[39m=\u001b[39m \u001b[39meval\u001b[39m(best_model, device, test_loader, evaluator, save_model_results\u001b[39m=\u001b[39m\u001b[39mTrue\u001b[39;00m, save_file\u001b[39m=\u001b[39m\u001b[39m\"\u001b[39m\u001b[39mtest\u001b[39m\u001b[39m\"\u001b[39m)[dataset\u001b[39m.\u001b[39meval_metric]\n",
            "\u001b[0;31mTypeError\u001b[0m: eval expected at most 3 arguments, got 4"
          ]
        }
      ],
      "source": [
        "if 'IS_GRADESCOPE_ENV' not in os.environ:\n",
        "  train_acc = eval(best_model, device, train_loader, evaluator)[dataset.eval_metric]\n",
        "  valid_acc = eval(best_model, device, valid_loader, evaluator, save_model_results=True, save_file=\"valid\")[dataset.eval_metric]\n",
        "  test_acc  = eval(best_model, device, test_loader, evaluator, save_model_results=True, save_file=\"test\")[dataset.eval_metric]\n",
        "\n",
        "  print(f'Best model: '\n",
        "      f'Train: {100 * train_acc:.2f}%, '\n",
        "      f'Valid: {100 * valid_acc:.2f}% '\n",
        "      f'Test: {100 * test_acc:.2f}%')"
      ]
    },
    {
      "cell_type": "markdown",
      "metadata": {
        "id": "gBi_t8n0iZ4P"
      },
      "source": [
        "## Question 7 (Optional): Experiment with the two other global pooling layers in Pytorch Geometric."
      ]
    },
    {
      "cell_type": "markdown",
      "metadata": {
        "id": "e7JXsMTBgeOI"
      },
      "source": [
        "# Submission\n",
        "\n",
        "You will need to submit four files on Gradescope to complete this notebook. \n",
        "\n",
        "1.   Your completed *CS224W_Colab2.ipynb*. From the \"File\" menu select \"Download .ipynb\" to save a local copy of your completed Colab. **PLEASE DO NOT CHANGE THE NAME!** The autograder depends on the .ipynb file being called \"CS224W_Colab2.ipynb\".\n",
        "2.  *ogbn-arxiv_node.csv* \n",
        "3.  *ogbg-molhiv_graph_valid.csv*\n",
        "4.  *ogbg-molhiv_graph_test.csv*\n",
        "\n",
        "Download the csv files by selecting the *Folder* icon on the left panel. \n",
        "\n",
        "To submit your work, zip the files downloaded in steps 1-4 above and submit to gradescope. **NOTE:** DO NOT rename any of the downloaded files. "
      ]
    }
  ],
  "metadata": {
    "accelerator": "GPU",
    "colab": {
      "machine_shape": "hm",
      "provenance": []
    },
    "kernelspec": {
      "display_name": "venv_graph_ml",
      "language": "python",
      "name": "python3"
    },
    "language_info": {
      "codemirror_mode": {
        "name": "ipython",
        "version": 3
      },
      "file_extension": ".py",
      "mimetype": "text/x-python",
      "name": "python",
      "nbconvert_exporter": "python",
      "pygments_lexer": "ipython3",
      "version": "3.10.6"
    },
    "vscode": {
      "interpreter": {
        "hash": "9a65eb1f0d40f9974d9028d4a6f0f5093e4387a54c81586cb94a39a58a47a89c"
      }
    }
  },
  "nbformat": 4,
  "nbformat_minor": 0
}
